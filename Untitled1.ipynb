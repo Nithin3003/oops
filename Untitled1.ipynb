{
 "cells": [
  {
   "cell_type": "code",
   "execution_count": 17,
   "id": "bc1e42b8",
   "metadata": {},
   "outputs": [
    {
     "name": "stdout",
     "output_type": "stream",
     "text": [
      "i am attribute\n",
      "Good Morning\n",
      "Nithin M S\n"
     ]
    }
   ],
   "source": [
    "class Class1:\n",
    "    att1= \"i am attribute\"\n",
    "    \n",
    "    def Say_hello(self):\n",
    "        print(\"Good Morning\")\n",
    "        \n",
    "        \n",
    "        \n",
    "class Class2(Class1):\n",
    "    def greatting(self):\n",
    "        print('Nithin M S')\n",
    "        \n",
    "    \n",
    "obj=Class2()\n",
    "\n",
    "print(obj.att1)\n",
    "obj.Say_hello()\n",
    "\n",
    "obj.greatting()\n"
   ]
  },
  {
   "cell_type": "code",
   "execution_count": 28,
   "id": "4ffbf1a1",
   "metadata": {},
   "outputs": [
    {
     "name": "stdout",
     "output_type": "stream",
     "text": [
      "I am parrot1 name is blue and  age is 10\n",
      "I am parrot2 name is  Blu and  age is 20\n"
     ]
    }
   ],
   "source": [
    "class Parrot:\n",
    "    def __init__(self,name,age):\n",
    "        self.name=name\n",
    "        self.age = age\n",
    "    \n",
    "parrot1 = Parrot('blue',10)\n",
    "\n",
    "parrot2=Parrot('Blu',20)\n",
    "\n",
    "print(f\"I am parrot1 name is {parrot1.name} and  age is { parrot1.age }\")\n",
    "print(f\"I am parrot2 name is  {parrot2.name} and  age is { parrot2.age}\")\n",
    "\n"
   ]
  },
  {
   "cell_type": "code",
   "execution_count": 36,
   "id": "43dfc06b",
   "metadata": {},
   "outputs": [
    {
     "name": "stdout",
     "output_type": "stream",
     "text": [
      "Name: Buddy \n",
      " Age: 20\n"
     ]
    }
   ],
   "source": [
    "\n",
    "class Animal:\n",
    "    def __init__(self,name,age):\n",
    "        self.name=name\n",
    "        self.age=age\n",
    "\n",
    "    def display_info(self):\n",
    "        print(f\"Name: {self.name} \\n Age: {self.age}\")\n",
    "\n",
    "a= Animal(\"Buddy\" , 20)\n",
    "a.display_info()"
   ]
  },
  {
   "cell_type": "code",
   "execution_count": null,
   "id": "48173a51",
   "metadata": {},
   "outputs": [],
   "source": [
    "\n"
   ]
  }
 ],
 "metadata": {
  "kernelspec": {
   "display_name": "Python 3 (ipykernel)",
   "language": "python",
   "name": "python3"
  },
  "language_info": {
   "codemirror_mode": {
    "name": "ipython",
    "version": 3
   },
   "file_extension": ".py",
   "mimetype": "text/x-python",
   "name": "python",
   "nbconvert_exporter": "python",
   "pygments_lexer": "ipython3",
   "version": "3.11.5"
  }
 },
 "nbformat": 4,
 "nbformat_minor": 5
}
